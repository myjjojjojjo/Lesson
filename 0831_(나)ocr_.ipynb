{
  "nbformat": 4,
  "nbformat_minor": 0,
  "metadata": {
    "colab": {
      "provenance": [],
      "private_outputs": true,
      "mount_file_id": "1seX3ATFGetggeJfnbHZ1Q_5EdZHNmrkM",
      "authorship_tag": "ABX9TyPcSOXZOvQxU9ielf3Ia75G",
      "include_colab_link": true
    },
    "kernelspec": {
      "name": "python3",
      "display_name": "Python 3"
    },
    "language_info": {
      "name": "python"
    },
    "accelerator": "GPU",
    "gpuClass": "standard"
  },
  "cells": [
    {
      "cell_type": "markdown",
      "metadata": {
        "id": "view-in-github",
        "colab_type": "text"
      },
      "source": [
        "<a href=\"https://colab.research.google.com/github/myjjojjojjo/Lesson/blob/main/0831_(%EB%82%98)ocr_.ipynb\" target=\"_parent\"><img src=\"https://colab.research.google.com/assets/colab-badge.svg\" alt=\"Open In Colab\"/></a>"
      ]
    },
    {
      "cell_type": "code",
      "source": [
        "%cd /content/drive/MyDrive/DeepLearning/test"
      ],
      "metadata": {
        "id": "43EcfaG23lRg"
      },
      "execution_count": null,
      "outputs": []
    },
    {
      "cell_type": "code",
      "execution_count": null,
      "metadata": {
        "id": "qFPHzHH-ucku"
      },
      "outputs": [],
      "source": [
        "!pip install easyocr"
      ]
    },
    {
      "cell_type": "code",
      "source": [
        "from PIL import Image\n",
        "image=Image.open('근로계약서39.jpg')\n",
        "print(image.size)\n",
        "\n",
        "image\n"
      ],
      "metadata": {
        "id": "T5sAoEPmugV4"
      },
      "execution_count": null,
      "outputs": []
    },
    {
      "cell_type": "code",
      "source": [
        "###################################################\n",
        "### 참고: easyocr 사용하기 / 텍스트와 좌표값, 신뢰도값 모두 추출\n",
        "###################################################\n",
        "# 모듈에사용된 소스코드 \n",
        "# https://github.com/JaidedAI/EasyOCR/blob/048e8ecb52ace84fb344be6c0ca847340816dfff/easyocr/easyocr.py#L374\n",
        "\n",
        "import easyocr\n",
        "reader = easyocr.Reader(['ko','en']) # need to run only once to load model into memory\n",
        "#reader.character\n",
        "#reader.getChar\n",
        "#result = reader.readtext('OCR샘플.png',blocklist=\" -.:';,\")  # blocklist= OCR글자 가져올때 제외하는 리스트\n",
        "result = reader.readtext_batched('근로계약서39.jpg')  #detail=1 이 생략되어 있음\n",
        "#result=reader.readtext('OCR샘플.png',\n",
        "#result\n"
      ],
      "metadata": {
        "id": "2gqFiCQvugZg"
      },
      "execution_count": null,
      "outputs": []
    },
    {
      "cell_type": "code",
      "source": [
        "##################################\n",
        "#### 참고: result 정보확인\n",
        "##################################\n",
        "list(result)   #result에는 문장의 좌표값과 문장, 신뢰도까지 출력됨"
      ],
      "metadata": {
        "id": "aU9KUjnp8wxD"
      },
      "execution_count": null,
      "outputs": []
    },
    {
      "cell_type": "code",
      "source": [
        "result[0]   #list와 똑같은 결과.  result[0]은 list 전체를 의미하는 듯."
      ],
      "metadata": {
        "id": "RthkNRoHjgXX"
      },
      "execution_count": null,
      "outputs": []
    },
    {
      "cell_type": "code",
      "source": [
        "\n",
        "print('\\n\\n ▶result[0]의 0번자료 정보: 즉 ocr 텍스트의 첫번째 문장'+ '-'*50)\n",
        "print(result[0][0])\n",
        "\n",
        "print('\\n\\n ▶result[0]의 1번자료 정보: 즉 ocr 텍스트의 두번째 문장'+'-'*50)\n",
        "print(result[0][1])\n",
        "\n",
        "print('\\n\\n ▶result[0]의 2번자료 정보즉 ocr 텍스트의 세번째 문장'+'-'*50)\n",
        "print(result[0][2])"
      ],
      "metadata": {
        "id": "9LUgFE33upKv"
      },
      "execution_count": null,
      "outputs": []
    },
    {
      "cell_type": "code",
      "source": [
        "##################################\n",
        "#### 참고: result[0] 번의 정보확인\n",
        "##################################\n",
        "print('\\n\\n ▶result[0]의 0번자료 정보: 즉 ocr 텍스트의 첫번째 문장'+ '-'*50)\n",
        "\n",
        "print('\\n\\n  --> 글자의 x,y좌표값정보'+ '-'*50)\n",
        "print(result[0][0][0])\n",
        "\n",
        "print('\\n\\n  --> 글자의 txt 정보'+ '-'*50)\n",
        "print(result[0][0][1])\n",
        "\n",
        "\n",
        "print('\\n\\n  --> 글자의 txt 신뢰도값'+ '-'*50)\n",
        "print(result[0][0][2])\n"
      ],
      "metadata": {
        "id": "VMcGYIloupOO"
      },
      "execution_count": null,
      "outputs": []
    },
    {
      "cell_type": "code",
      "source": [
        "##################################\n",
        "#### 참고: result[0] 번의 '한경IT닷컴'  글자에 box 그리기\n",
        "##################################\n",
        "from PIL import ImageDraw\n",
        "draw = ImageDraw.Draw(image)\n",
        "\n",
        "info=result[0][0][0]   # 첫번째 글자인 '근로계약서'의 글자위치 정보 출력\n",
        "print(info)\n",
        "\n",
        "# 왼쪽에서 오른쪽으로 15번째위치(startX), 위에서 아래의 11번째위치(startY) 에서  왼쪽에서 오른쪽으로 81번째위치(endX), 위에서 아래11번째위치(endY) 에 일직선그리기\n",
        "startX=info[0][0]  # [106,42] 중 106\n",
        "startY=info[0][1]  # [106,42] 중 42\n",
        "endX=info[1][0]    # [210,42] 중 210\n",
        "endY=info[1][1]    # [210,42] 중 11\n",
        "\n",
        "draw.line((startX,startY,endX,endY), fill=\"yellow\", width=5)  \n",
        "\n",
        "## 한경IT닷컴 아래쪽에 선그리기\n",
        "startX=info[3][0]  # [106,70] 중 106\n",
        "startY=info[3][1]  # [106,70] 중 70\n",
        "endX=info[2][0]    # [210,70] 중 210\n",
        "endY=info[2][1]    # [210,70] 중 70\n",
        "\n",
        "draw.line((startX,startY,endX,endY), fill=\"blue\", width=5)  \n",
        "\n",
        "                                                                    \n",
        "\n",
        "## 한경IT닷컴의 모자이크 영역 알아보기 (이 초록색 영역이 모자이크 처리되는 영역임)\n",
        "startX, startY, endX,endY=info[0][0],info[0][1], info[2][0],info[2][1]\n",
        "draw.line((startX,startY,endX,endY), fill=\"green\", width=5)  \n",
        "\n",
        "image\n"
      ],
      "metadata": {
        "id": "ONr5bFSaupRw"
      },
      "execution_count": null,
      "outputs": []
    },
    {
      "cell_type": "code",
      "source": [
        "from google.colab import drive\n",
        "drive.mount('/content/drive')"
      ],
      "metadata": {
        "id": "SoMztAhng21d"
      },
      "execution_count": null,
      "outputs": []
    },
    {
      "cell_type": "code",
      "source": [
        "print(result[0][0])\n",
        "info[0][0],info[0][1], info[2][0],info[2][1]  # 모자이크 시작위치 (15,11) 에서 (81,31)까지 모자이크 처리"
      ],
      "metadata": {
        "id": "IVMf8yH5ugc-"
      },
      "execution_count": null,
      "outputs": []
    },
    {
      "cell_type": "code",
      "source": [
        "##########################################################\n",
        "##### 참고: 모자이크: 문장4개중 첫번째 문장 '근로계약서' (result[0][0])\n",
        "##########################################################\n",
        "from PIL import Image, ImageFilter\n",
        "\n",
        "# 근로계약서 글자에 대한 정보\n",
        "print(result[0][0][0]) \n",
        "info=result[0][0][0]\n",
        "startX, startY, endX,endY=info[0][0],info[0][1], info[2][0],info[2][1]\n",
        "\n",
        "crop_image = image.crop((startX,startY,endX,endY))\n",
        "crop_image\n",
        "blur_image = crop_image.filter(ImageFilter.GaussianBlur(radius=5))\n",
        "image.paste(blur_image, (startX,startY))\n",
        "image\n",
        "\n"
      ],
      "metadata": {
        "id": "17Dtj_DQuggW"
      },
      "execution_count": null,
      "outputs": []
    },
    {
      "cell_type": "code",
      "source": [
        "##########################################################\n",
        "##### 참고: 모자이크: 문장4개중 두번째 문장'it인공지능'\n",
        "##########################################################\n",
        "from PIL import Image, ImageFilter\n",
        "\n",
        "print(result[0][1][0])   # 기간의 정함이 있는 경우\n",
        "info=result[0][1][0]  \n",
        "startX, startY, endX,endY=info[0][0],info[0][1], info[2][0],info[2][1]\n",
        "\n",
        "crop_image = image.crop((startX,startY,endX,endY))\n",
        "crop_image\n",
        "blur_image = crop_image.filter(ImageFilter.GaussianBlur(radius=5))\n",
        "image.paste(blur_image, (startX,startY))\n",
        "image"
      ],
      "metadata": {
        "id": "0ki2xocxu5Wo"
      },
      "execution_count": null,
      "outputs": []
    },
    {
      "cell_type": "code",
      "source": [
        "##########################################################\n",
        "##### 참고: 모자이크: 문장중 포함되는 글자가 있는 문장을 전체모두 모자이크\n",
        "##########################################################\n",
        "# 새로 이미지 호출\n",
        "from PIL import Image\n",
        "image=Image.open('근로계약서39.jpg')\n",
        "print(image.size)\n",
        "\n",
        "image\n"
      ],
      "metadata": {
        "id": "ukC7sI9Mu5am"
      },
      "execution_count": null,
      "outputs": []
    },
    {
      "cell_type": "code",
      "source": [
        "# 참고 : easyocr에서 계산된 result 값 확인\n",
        "for box,txt,con in result[0]:\n",
        "  print(box,txt)\n"
      ],
      "metadata": {
        "id": "zlEP-0MOu5gQ"
      },
      "execution_count": null,
      "outputs": []
    },
    {
      "cell_type": "code",
      "source": [
        "# findWord가 포함된 문자 모자이크\n",
        "findWord='근로'\n",
        "for box,txt,con in result[0]:\n",
        "  if findWord in txt:\n",
        "    info=box  \n",
        "    startX, startY, endX,endY=info[0][0],info[0][1], info[2][0],info[2][1]\n",
        "\n",
        "    crop_image = image.crop((startX,startY,endX,endY))\n",
        "    crop_image\n",
        "    blur_image = crop_image.filter(ImageFilter.GaussianBlur(radius=5))\n",
        "    image.paste(blur_image, (startX,startY))\n",
        "image"
      ],
      "metadata": {
        "id": "4XMlF-UdvEhH"
      },
      "execution_count": null,
      "outputs": []
    },
    {
      "cell_type": "code",
      "source": [
        "######################################3\n",
        "## findWord 가 있는 문장 빨간 박스 그리기\n",
        "#################################\n",
        "\n",
        "from PIL import Image\n",
        "image=Image.open('근로계약서39.jpg')\n",
        "draw = ImageDraw.Draw(image)\n",
        "print(image.size)\n",
        "\n",
        "# findWord가 포함된 문자 모자이크\n",
        "findWord='계약'\n",
        "for box,txt,con in result[0]:\n",
        "  if findWord in txt:\n",
        "    info=box  \n",
        "    startX, startY, endX,endY=info[0][0],info[0][1], info[2][0],info[2][1]\n",
        "    draw.rectangle((startX, startY, endX,endY), outline=(255,0,0), width = 1)\n",
        "    \n",
        "image"
      ],
      "metadata": {
        "id": "3fXCjQS6vE1B"
      },
      "execution_count": null,
      "outputs": []
    }
  ]
}