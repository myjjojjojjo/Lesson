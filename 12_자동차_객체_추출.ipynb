{
  "nbformat": 4,
  "nbformat_minor": 0,
  "metadata": {
    "colab": {
      "private_outputs": true,
      "provenance": [],
      "include_colab_link": true
    },
    "kernelspec": {
      "name": "python3",
      "display_name": "Python 3"
    },
    "language_info": {
      "name": "python"
    },
    "accelerator": "GPU",
    "gpuClass": "standard"
  },
  "cells": [
    {
      "cell_type": "markdown",
      "metadata": {
        "id": "view-in-github",
        "colab_type": "text"
      },
      "source": [
        "<a href=\"https://colab.research.google.com/github/myjjojjojjo/Lesson/blob/main/12_%EC%9E%90%EB%8F%99%EC%B0%A8_%EA%B0%9D%EC%B2%B4_%EC%B6%94%EC%B6%9C.ipynb\" target=\"_parent\"><img src=\"https://colab.research.google.com/assets/colab-badge.svg\" alt=\"Open In Colab\"/></a>"
      ]
    },
    {
      "cell_type": "code",
      "source": [],
      "metadata": {
        "id": "CKElYHsviMGQ"
      },
      "execution_count": null,
      "outputs": []
    },
    {
      "cell_type": "markdown",
      "source": [],
      "metadata": {
        "id": "85cnLrFziLoB"
      }
    },
    {
      "cell_type": "markdown",
      "source": [
        "1. yolov5 다운로드 및 환경 설정"
      ],
      "metadata": {
        "id": "DVMDtVRWKcae"
      }
    },
    {
      "cell_type": "code",
      "source": [],
      "metadata": {
        "id": "ZXXSiFaGh4PJ"
      },
      "execution_count": null,
      "outputs": []
    },
    {
      "cell_type": "code",
      "execution_count": null,
      "metadata": {
        "id": "dJeGFKp4IlWs"
      },
      "outputs": [],
      "source": [
        "# git에서 yolov5 모델 다운로드\n",
        "!git clone https://github.com/ultralytics/yolov5"
      ]
    },
    {
      "cell_type": "code",
      "source": [
        "# 기본 환경 세팅\n",
        "%cd yolov5\n",
        "!pip install -qr requirements.txt"
      ],
      "metadata": {
        "id": "hhAfAejBKlKE"
      },
      "execution_count": null,
      "outputs": []
    },
    {
      "cell_type": "code",
      "source": [
        "# 모듈 import\n",
        "import torch\n",
        "from IPython.display import Image, clear_output, display\n",
        "from glob import glob\n",
        "import numpy as np\n",
        "import cv2\n",
        "import random\n",
        "import yaml"
      ],
      "metadata": {
        "id": "5ADsSvK8LDIp"
      },
      "execution_count": null,
      "outputs": []
    },
    {
      "cell_type": "code",
      "source": [
        "# 구글 드라이브 연결\n",
        "from google.colab import drive\n",
        "drive.mount('/content/drive')"
      ],
      "metadata": {
        "id": "oj2JRkWWMDlB"
      },
      "execution_count": null,
      "outputs": []
    },
    {
      "cell_type": "markdown",
      "source": [
        "2. 데이터 다운로드\n",
        "- Vehicles 폴더 생성후 데이터 저장"
      ],
      "metadata": {
        "id": "mplUKCimMx8E"
      }
    },
    {
      "cell_type": "code",
      "source": [
        "# 폴더 생성 및 이동\n",
        "%mkdir /content/yolov5/Vehicles\n",
        "%cd /content/yolov5/Vehicles"
      ],
      "metadata": {
        "id": "5B5KShrXMZDK"
      },
      "execution_count": null,
      "outputs": []
    },
    {
      "cell_type": "code",
      "source": [
        "# 데이터 다운로드 및 압축 해제\n",
        "!curl -L \"https://public.roboflow.com/ds/AJq9ZY0PrE?key=zxAFjSPiMG\" > roboflow.zip; unzip roboflow.zip; rm roboflow.zip"
      ],
      "metadata": {
        "id": "wsw1D_u0NiBL"
      },
      "execution_count": null,
      "outputs": []
    },
    {
      "cell_type": "code",
      "source": [
        "# 저장 데이터 확인\n",
        "!ls"
      ],
      "metadata": {
        "id": "AbQSv5g7OJ-C"
      },
      "execution_count": null,
      "outputs": []
    },
    {
      "cell_type": "code",
      "source": [
        "!ls ./test"
      ],
      "metadata": {
        "id": "9YrzCCkTPCQV"
      },
      "execution_count": null,
      "outputs": []
    },
    {
      "cell_type": "markdown",
      "source": [
        "3. 데이터 목록 생성\n",
        "- test/train/valid 데이터 목록 생성(*.txt)"
      ],
      "metadata": {
        "id": "-wF3dYy6OtVT"
      }
    },
    {
      "cell_type": "code",
      "source": [
        "# train/test/valid 이미지 파일 목록 생성\n",
        "train_img_list=glob('./train/images/*.jpg')\n",
        "test_img_list=glob('./test/images/*.jpg')\n",
        "valid_img_list=glob('./valid/images/*.jpg')\n",
        "\n",
        "print(len(train_img_list),len(test_img_list),len(valid_img_list))"
      ],
      "metadata": {
        "id": "dMPQzLUfOjLB"
      },
      "execution_count": null,
      "outputs": []
    },
    {
      "cell_type": "code",
      "source": [
        "%pwd"
      ],
      "metadata": {
        "id": "oP-f4s2VQMjT"
      },
      "execution_count": null,
      "outputs": []
    },
    {
      "cell_type": "code",
      "source": [
        "# 이미지 목록을 이용해 txt 파일 생성(Vehicles 폴더에 저장)\n",
        "with open('./train.txt', 'w') as f:\n",
        "    f.write('\\n'.join(train_img_list)+'\\n')\n",
        "\n",
        "with open('/content/yolov5/Vehicles/test.txt', 'w') as f:\n",
        "    f.write('\\n'.join(test_img_list)+'\\n')\n",
        "\n",
        "with open('/content/yolov5/Vehicles/valid.txt', 'w') as f:\n",
        "    f.write('\\n'.join(valid_img_list)+'\\n')\n",
        "\n",
        "%ls"
      ],
      "metadata": {
        "id": "QmMI343iP2hx"
      },
      "execution_count": null,
      "outputs": []
    },
    {
      "cell_type": "markdown",
      "source": [
        "4. 데이터 정보 수정(data.yaml)\n",
        "- jupyter, 메모장, 코드 등을 이용해 수정"
      ],
      "metadata": {
        "id": "Q43YO2eVRJ84"
      }
    },
    {
      "cell_type": "code",
      "source": [
        "# 개별 수정후 저장된 코드 확인\n",
        "%cat /content/yolov5/Vehicles/data.yaml"
      ],
      "metadata": {
        "id": "rk1gWbuNRAz-"
      },
      "execution_count": null,
      "outputs": []
    },
    {
      "cell_type": "markdown",
      "source": [
        "5. 학습 모델(./models/yolov5s.yaml 모델) 구성 편집 후 확인\n",
        "- jupyter, 메모장, 코드 등을 이용해 수정\n",
        "- 사용 모델의 nc 값을 data.yaml의 nc와 동일하게 수정"
      ],
      "metadata": {
        "id": "rVxm7fk5SHeu"
      }
    },
    {
      "cell_type": "code",
      "source": [
        "# 수정된 학습 모델 확인(nc 확인)\n",
        "%cat /content/yolov5/models/yolov5s.yaml"
      ],
      "metadata": {
        "id": "lsNtHu55SFof"
      },
      "execution_count": null,
      "outputs": []
    },
    {
      "cell_type": "markdown",
      "source": [
        "6. 학습 진행\n",
        "* train.py 를 이용해 학습\n",
        "    * `img`: 입력 이미지 크기 정의\n",
        "    * `batch`: 배치 크기 결정\n",
        "    * `epochs`: 학습 기간 개수 정의\n",
        "    * `data`: yaml 파일 경로\n",
        "    * `cfg`: 모델 구성 지정\n",
        "    * `weights`: 가중치에 대한 경로 지정\n",
        "    * `name`: 결과 이름\n",
        "    * `nosave`: 최종 체크포인트만 저장\n",
        "    * `cache`: 빠른 학습을 위한 이미지 캐시"
      ],
      "metadata": {
        "id": "3sl8fBecTX2g"
      }
    },
    {
      "cell_type": "code",
      "source": [
        "# 작업 위치를 yolov5 폴더로 변경\n",
        "%cd /content/yolov5"
      ],
      "metadata": {
        "id": "AB28WGrHUN3X"
      },
      "execution_count": null,
      "outputs": []
    },
    {
      "cell_type": "code",
      "source": [
        "# python train.py을 이용해 학습 진행\n",
        "!python train.py --img 416 --batch 32 --epochs 100 --data ./Vehicles/data.yaml --cfg ./models/yolov5s.yaml --weight '' --name Vehicels_results --cache"
      ],
      "metadata": {
        "id": "1evvEwy8TG0G"
      },
      "execution_count": null,
      "outputs": []
    },
    {
      "cell_type": "markdown",
      "source": [
        "7. 학습 진행 상황 확인"
      ],
      "metadata": {
        "id": "eLRJtt1xbP36"
      }
    },
    {
      "cell_type": "code",
      "source": [
        "Image(filename='/content/yolov5/runs/train/Vehicels_results/results.png', width=800)"
      ],
      "metadata": {
        "id": "KoJrU1llbx1w"
      },
      "execution_count": null,
      "outputs": []
    },
    {
      "cell_type": "code",
      "source": [
        "%load_ext tensorboard\n",
        "%tensorboard --logdir /content/yolov5/runs/"
      ],
      "metadata": {
        "id": "1uyIW5wsVOrz"
      },
      "execution_count": null,
      "outputs": []
    },
    {
      "cell_type": "markdown",
      "source": [
        "8. 학습 및 검증 데이터(이미지) 확인"
      ],
      "metadata": {
        "id": "4KY-ALeIcym4"
      }
    },
    {
      "cell_type": "code",
      "source": [
        "Image(filename='/content/yolov5/runs/train/Vehicels_results/train_batch0.jpg', width=800)"
      ],
      "metadata": {
        "id": "I1WKPTCsccoW"
      },
      "execution_count": null,
      "outputs": []
    },
    {
      "cell_type": "code",
      "source": [
        "Image(filename='/content/yolov5/runs/train/Vehicels_results/val_batch0_pred.jpg', width=800)"
      ],
      "metadata": {
        "id": "p1b0Kct-c9Xo"
      },
      "execution_count": null,
      "outputs": []
    },
    {
      "cell_type": "markdown",
      "source": [
        "9. 테스트 데이터를 이용한 검증\n",
        "- val.py 파일 실행을 통해 확인\n",
        "- valid/test 데이터 이용"
      ],
      "metadata": {
        "id": "H8yLCdWQdrvm"
      }
    },
    {
      "cell_type": "code",
      "source": [
        "# valid 데이터 파일을 이용한 검증\n",
        "!python val.py --weights /content/yolov5/runs/train/Vehicels_results/weights/best.pt --data /content/yolov5/Vehicles/data.yaml"
      ],
      "metadata": {
        "id": "vBBZQfN0dT6v"
      },
      "execution_count": null,
      "outputs": []
    },
    {
      "cell_type": "code",
      "source": [
        "Image(filename='./runs/val/exp/val_batch0_pred.jpg', width=800)"
      ],
      "metadata": {
        "id": "0ZdR0SpegEo9"
      },
      "execution_count": null,
      "outputs": []
    },
    {
      "cell_type": "code",
      "source": [
        "# test 이미지를 이용한 검증\n",
        "!python val.py --weights ./runs/train/Vehicels_results/weights/best.pt --data ./Vehicles/data.yaml --task test"
      ],
      "metadata": {
        "id": "98VTYcBRe0rW"
      },
      "execution_count": null,
      "outputs": []
    },
    {
      "cell_type": "code",
      "source": [
        "Image(filename='./runs/val/exp2/val_batch0_pred.jpg', width=800)"
      ],
      "metadata": {
        "id": "Qjvfg8HVfSz_"
      },
      "execution_count": null,
      "outputs": []
    },
    {
      "cell_type": "markdown",
      "source": [
        "10. 모델을 이용한 이미지에 Detect 적용\n",
        "- detect.py 이용"
      ],
      "metadata": {
        "id": "nf6wyapZggbd"
      }
    },
    {
      "cell_type": "markdown",
      "source": [
        " - test 이미지를 이용한 확인"
      ],
      "metadata": {
        "id": "Dxx4tzI5iSFc"
      }
    },
    {
      "cell_type": "code",
      "source": [
        "!python detect.py --weights ./runs/train/Vehicels_results/weights/best.pt --source ./Vehicles/test/images"
      ],
      "metadata": {
        "id": "4xAMe6OLgWHt"
      },
      "execution_count": null,
      "outputs": []
    },
    {
      "cell_type": "code",
      "source": [
        "# detect 결과중 임의로 하나 출력\n",
        "Image(filename=random.choice(glob('./runs/detect/exp/*.jpg')))"
      ],
      "metadata": {
        "id": "37euuBTIhI77"
      },
      "execution_count": null,
      "outputs": []
    },
    {
      "cell_type": "markdown",
      "source": [
        "- 사용자 이미지를 이용한 확인"
      ],
      "metadata": {
        "id": "MELbJwBMiYr8"
      }
    },
    {
      "cell_type": "code",
      "source": [
        "#사용자 파일 업로드\n",
        "from google.colab import files\n",
        "\n",
        "filename=files.upload()"
      ],
      "metadata": {
        "id": "Naj3_r1Zhled"
      },
      "execution_count": null,
      "outputs": []
    },
    {
      "cell_type": "code",
      "source": [
        "!python detect.py --weights ./runs/train/Vehicels_results/weights/best.pt --source ./data/images/test_img1.jpg"
      ],
      "metadata": {
        "id": "JmpeBQBzkLIa"
      },
      "execution_count": null,
      "outputs": []
    },
    {
      "cell_type": "code",
      "source": [
        "Image(filename='./runs/detect/exp2/test_img1.jpg')"
      ],
      "metadata": {
        "id": "EICCxzi1kNpV"
      },
      "execution_count": null,
      "outputs": []
    },
    {
      "cell_type": "markdown",
      "source": [
        "- 사용자 동영상 확인"
      ],
      "metadata": {
        "id": "c1pZkDE0lU6K"
      }
    },
    {
      "cell_type": "code",
      "source": [
        "!python detect.py --weights ./runs/train/Vehicels_results/weights/best.pt --source /content/drive/MyDrive/hkedu/data/test_thans1.mp4"
      ],
      "metadata": {
        "id": "-C5zPC2fkNsc"
      },
      "execution_count": null,
      "outputs": []
    },
    {
      "cell_type": "code",
      "source": [
        "!ls ./runs/detect/exp3"
      ],
      "metadata": {
        "id": "0hHXnP6alr3C"
      },
      "execution_count": null,
      "outputs": []
    },
    {
      "cell_type": "code",
      "source": [
        "# jupyter에서 실행\n",
        "#videocap=cv2.VideoCapture('./runs/detect/exp3/test_thans1.mp4')\n",
        "\n",
        "#while True:\n",
        "#    ret, frame = videocap.read()\n",
        "#    cv2.imshow('Vehicels Cap',frame)\n",
        "#    if cv2.waitKey(10) == 27:\n",
        "#        break\n",
        "\n",
        "#videocap.release()\n",
        "#cv2.destroyAllWindows()"
      ],
      "metadata": {
        "id": "PJ5hhFNbl3Eh"
      },
      "execution_count": null,
      "outputs": []
    },
    {
      "cell_type": "code",
      "source": [
        "files.download('/content/yolov5/runs/detect/exp3/test_thans1.mp4')"
      ],
      "metadata": {
        "id": "jqjSly2ppqqH"
      },
      "execution_count": null,
      "outputs": []
    },
    {
      "cell_type": "code",
      "source": [
        "# 모델 다운로드\n",
        "files.download('/content/yolov5/runs/train/Vehicels_results/weights/best.pt')"
      ],
      "metadata": {
        "id": "vImknUlvqVLu"
      },
      "execution_count": null,
      "outputs": []
    },
    {
      "cell_type": "code",
      "source": [],
      "metadata": {
        "id": "TxuTA2In94bB"
      },
      "execution_count": null,
      "outputs": []
    }
  ]
}