{
  "nbformat": 4,
  "nbformat_minor": 0,
  "metadata": {
    "colab": {
      "provenance": [],
      "private_outputs": true,
      "authorship_tag": "ABX9TyP4zO6LqSJIJzYR3+pRcytO",
      "include_colab_link": true
    },
    "kernelspec": {
      "name": "python3",
      "display_name": "Python 3"
    },
    "language_info": {
      "name": "python"
    },
    "accelerator": "GPU",
    "gpuClass": "standard"
  },
  "cells": [
    {
      "cell_type": "markdown",
      "metadata": {
        "id": "view-in-github",
        "colab_type": "text"
      },
      "source": [
        "<a href=\"https://colab.research.google.com/github/myjjojjojjo/Lesson/blob/main/0926_%EC%9A%9C%EB%A1%9C%EB%B3%B5%EC%8A%B5.ipynb\" target=\"_parent\"><img src=\"https://colab.research.google.com/assets/colab-badge.svg\" alt=\"Open In Colab\"/></a>"
      ]
    },
    {
      "cell_type": "code",
      "execution_count": null,
      "metadata": {
        "id": "NWNsBMB_jcdq"
      },
      "outputs": [],
      "source": [
        "!git clone https://github.com/ultralytics/yolov5\n"
      ]
    },
    {
      "cell_type": "code",
      "source": [
        "%cd /content/yolov5"
      ],
      "metadata": {
        "id": "qC_audNAkubr"
      },
      "execution_count": null,
      "outputs": []
    },
    {
      "cell_type": "code",
      "source": [
        "%pwd"
      ],
      "metadata": {
        "id": "1VNuVxSSkuix"
      },
      "execution_count": null,
      "outputs": []
    },
    {
      "cell_type": "code",
      "source": [
        "%pip install -r requirements.txt"
      ],
      "metadata": {
        "id": "XUUDocUHkuny"
      },
      "execution_count": null,
      "outputs": []
    },
    {
      "cell_type": "code",
      "source": [
        "import torch\n",
        "#yolov5n, yolov5s,yolov5m,yolov5l,yolov5x\n",
        "model=torch.hub.load('ultralytics/yolov5','yolov5s')  #가중치 로드\n",
        "\n",
        "#이미지를 모델에 넣으려면 읽어서 배열화해야 함.  \n",
        "#욜로로  객체인식할 이미지를 로드하고 array까지 되는 openCV로 이미지를 열어서 model에 넣고자 함.\n",
        "#욜로에서 샘플로 제공하는 이미지로 작업해보자.\n",
        "#openCV로 /content/yolov5/data/images/bus.jpg를 RGB 컬로3채널로 읽기.\n",
        "#BGR로 되어있는 배열을 RGB로 변경하기.\n"
      ],
      "metadata": {
        "id": "-VHPGqLLkutW"
      },
      "execution_count": null,
      "outputs": []
    },
    {
      "cell_type": "code",
      "source": [
        "import cv2\n",
        "import matplotlib.pyplot as plt\n",
        "%matplotlib inline   \n",
        "\n",
        "img=cv2.imread('/content/yolov5/data/images/bus.jpg',1)\n",
        "img=cv2.cvtColor(img,cv2.COLOR_BGR2RGB)\n",
        "imgs=[img]  #800,600,3의 shape을 1,800,600,3으로 변경.  모델에 넣을 때에는 앞에 1 있어야 함.\n",
        "results=model(imgs,size=640) #모델에 넣음.  사이즈 클수록 인식률이 조금 높아지긴 함.\n",
        "df=results.pandas().xyxy[0]  #결과값 출력\n",
        "df\n",
        "\n"
      ],
      "metadata": {
        "id": "8AD20oxIo-Y7"
      },
      "execution_count": null,
      "outputs": []
    },
    {
      "cell_type": "code",
      "source": [
        "# xmin=int(df.iloc[2,0])\n",
        "# ymin=int(df.iloc[2,1])\n",
        "# xmax=int(df.iloc[2,2])\n",
        "# ymax=int(df.iloc[2,3])\n",
        "# name=df.iloc[2,6]\n",
        "\n",
        "xminList=(df.iloc[:,0]).astype('int32') #2개 이상의 자료이므로 astype으로 형변환.\n",
        "yminList=(df.iloc[:,1]).astype('int32')\n",
        "xmaxList=(df.iloc[:,2]).astype('int32')\n",
        "ymaxList=(df.iloc[:,3]).astype('int32')\n",
        "nameList=df.iloc[:,6]\n",
        "\n",
        "for xmin,ymin,xmax,ymax,name in zip(xminList,yminList,xmaxList,ymaxList,nameList):\n",
        "  cv2.rectangle(img,(xmin,ymin),(xmax,ymax),(255,0,0),5)\n",
        "  cv2.rectangle(img,(xmin,ymin-50),(xmax,ymin),(255,0,0),-1)\n",
        "  cv2.putText(img,name,(xmin,ymin),cv2.FONT_HERSHEY_SIMPLEX,2,(255,255,255),3)\n",
        "\n",
        "\n",
        "plt.imshow(img)"
      ],
      "metadata": {
        "id": "uNPRbLtLqdcm"
      },
      "execution_count": null,
      "outputs": []
    },
    {
      "cell_type": "code",
      "source": [
        "#깃클론해서 욜로 설치하고 실행만해도 박스는 그릴 수 있음.\n",
        "# -conf 0.25 25%값 이상만 보여줘라\n",
        "# detect.py가 나오는 이유는 위에서 %cd yolov5가 되어 있기 때문.\n",
        "# %pwd로 /content/yolov5가 되어 있는지 확인.\n",
        "\n",
        "!python detect.py --weights yolov5s.pt --img 640  --conf 0.25  --source /content/yolov5/data/images"
      ],
      "metadata": {
        "id": "CXpJWh2brnXL"
      },
      "execution_count": null,
      "outputs": []
    },
    {
      "cell_type": "code",
      "source": [
        "#영상물 작업도 가능.\n",
        "#단 영상물은 1초에 245개 프레임이라 분*60*25의 그림이 나옴.  이 자료는 6731개 이미지 자료.\n",
        "!python detect.py --weights yolov5s.pt --img 640 --conf 0.25 --source /content/BTS_MV.mp4 "
      ],
      "metadata": {
        "id": "_zRuKe8nrneV"
      },
      "execution_count": null,
      "outputs": []
    },
    {
      "cell_type": "code",
      "source": [],
      "metadata": {
        "id": "f8MGoi9brnl6"
      },
      "execution_count": null,
      "outputs": []
    },
    {
      "cell_type": "code",
      "source": [],
      "metadata": {
        "id": "HXqcDG5lqdlS"
      },
      "execution_count": null,
      "outputs": []
    }
  ]
}